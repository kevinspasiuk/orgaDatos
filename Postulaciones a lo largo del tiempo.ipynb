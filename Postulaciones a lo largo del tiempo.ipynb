{
 "cells": [
  {
   "cell_type": "code",
   "execution_count": null,
   "metadata": {},
   "outputs": [],
   "source": [
    "#importaciones\n",
    "from IPython.display import HTML\n",
    "from IPython.core.display import display, HTML\n",
    "display(HTML(\"<style>.container { width:90% !important; }</style>\"))\n",
    "import pandas as pd\n",
    "import numpy as np\n",
    "import matplotlib.pyplot as plt\n",
    "import seaborn as sns\n",
    "from pandas.plotting import _converter\n",
    "%matplotlib inline \n",
    "plt.style.use('default')\n",
    "import datetime\n",
    "import math\n",
    "sns.set(style=\"whitegrid\") # seteando tipo de grid en seaborn"
   ]
  },
  {
   "cell_type": "code",
   "execution_count": null,
   "metadata": {},
   "outputs": [],
   "source": [
    "df_postulaciones = pd.read_csv(\"../datos_navent_fiuba/fiuba_4_postulaciones.csv\", parse_dates=['fechapostulacion'])\n",
    "df_avisos_detalle = pd.read_csv(\"../datos_navent_fiuba/fiuba_6_avisos_detalle.csv\")"
   ]
  },
  {
   "cell_type": "code",
   "execution_count": null,
   "metadata": {},
   "outputs": [],
   "source": [
    "df_posts_avisos = df_avisos_detalle.merge(df_postulaciones, on='idaviso')\n",
    "df_posts_avisos['fecha'] = df_posts_avisos['fechapostulacion'].dt.date"
   ]
  },
  {
   "cell_type": "code",
   "execution_count": null,
   "metadata": {},
   "outputs": [],
   "source": [
    "def graficar_top_n_postulaciones(N, clave_agrupacion, clave_titulo, x_tick_step=1):\n",
    "    df_posts_agrupado =  df_posts_avisos.groupby(clave_agrupacion)\\\n",
    "                                        .agg({'idpostulante':'count'})\\\n",
    "                                        .rename(columns={'idpostulante': 'count'})\n",
    "\n",
    "    tot = df_posts_agrupado['count'].sum()\n",
    "\n",
    "    df_posts_agrupado['perc'] = df_posts_agrupado['count'] * 100.0 / tot\n",
    "    df_posts_agrupado = df_posts_agrupado.sort_values(by='count', ascending=False)\n",
    "    df_posts_agrupado = df_posts_agrupado.reset_index()\n",
    "\n",
    "    df_top_posts = pd.DataFrame(df_posts_agrupado.head(N))\n",
    "\n",
    "    max_perc = math.ceil(df_top_posts['perc'].max())\n",
    "    xticks = np.arange(0, max_perc, x_tick_step)\n",
    "\n",
    "    g = sns.barplot(x=df_top_posts['perc'], y=df_top_posts[clave_agrupacion], orient='h',\n",
    "                    palette=sns.color_palette(\"hls\", N))\n",
    "    g.set_title(\"Top {0} de postulaciones por {1}\".format(N, clave_titulo.lower()), fontsize=15)\n",
    "    g.set_xlabel(\"Postulaciones (%)\", fontsize=12)\n",
    "    g.set_ylabel(clave_titulo, fontsize=12)\n",
    "    g.set(xticks=xticks);\n",
    "    \n",
    "    return g"
   ]
  },
  {
   "cell_type": "code",
   "execution_count": null,
   "metadata": {},
   "outputs": [],
   "source": [
    "graficar_top_n_postulaciones(10, 'nombre_area', 'Area')"
   ]
  },
  {
   "cell_type": "code",
   "execution_count": null,
   "metadata": {},
   "outputs": [],
   "source": [
    "graficar_top_n_postulaciones(20, 'denominacion_empresa', 'Empresa', x_tick_step=0.5)"
   ]
  },
  {
   "cell_type": "code",
   "execution_count": null,
   "metadata": {},
   "outputs": [],
   "source": [
    "# TODO: ver si se puede hacer alguna grafica con la evolucion en el tiempo\n",
    "df = df_posts_avisos.groupby(['nombre_area', 'fecha'])\\\n",
    "                    .size()\\\n",
    "                    .reset_index()\\\n",
    "                    .rename(columns={0:'count'})\n",
    "tot = df['count'].sum()\n",
    "df['perc'] = df['count'] / tot\n",
    "\n",
    "pivoted = pd.pivot_table(df, values='perc', columns='nombre_area', \\\n",
    "                         index='fecha')\n",
    "pivoted = pivoted.divide(pivoted.sum(axis=1), axis=0)\n",
    "\n",
    "f = plt.figure()\n",
    "plt.title('Postulaciones por area a lo largo del tiempo (%)', color='black')\n",
    "ax = pivoted.plot(kind='area', stacked=True,figsize=(16,8),ax=f.gca())\n",
    "handles, labels = ax.get_legend_handles_labels()\n",
    "plt.legend(handles[::-1], labels[::-1],loc='center left', bbox_to_anchor=(1.0, 0.5))\n",
    "ax.set_ylabel('Porcentaje (%)');\n",
    "ax.set_xlabel('Fecha');\n",
    "ax.set_ylim(0,1)\n",
    "plt.show()"
   ]
  },
  {
   "cell_type": "code",
   "execution_count": null,
   "metadata": {},
   "outputs": [],
   "source": []
  }
 ],
 "metadata": {
  "kernelspec": {
   "display_name": "Python 3",
   "language": "python",
   "name": "python3"
  },
  "language_info": {
   "codemirror_mode": {
    "name": "ipython",
    "version": 3
   },
   "file_extension": ".py",
   "mimetype": "text/x-python",
   "name": "python",
   "nbconvert_exporter": "python",
   "pygments_lexer": "ipython3",
   "version": "3.6.4"
  }
 },
 "nbformat": 4,
 "nbformat_minor": 2
}
