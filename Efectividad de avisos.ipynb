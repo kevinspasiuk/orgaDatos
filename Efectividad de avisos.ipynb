{
 "cells": [
  {
   "cell_type": "code",
   "execution_count": null,
   "metadata": {},
   "outputs": [],
   "source": [
    "#importaciones\n",
    "from IPython.display import HTML\n",
    "from IPython.core.display import display, HTML\n",
    "display(HTML(\"<style>.container { width:90% !important; }</style>\"))\n",
    "import pandas as pd\n",
    "import numpy as np\n",
    "import matplotlib.pyplot as plt\n",
    "import seaborn as sns\n",
    "from pandas.plotting import _converter\n",
    "%matplotlib inline \n",
    "plt.style.use('default')\n",
    "import datetime\n",
    "import math\n",
    "sns.set(style=\"whitegrid\") # seteando tipo de grid en seaborn"
   ]
  },
  {
   "cell_type": "code",
   "execution_count": null,
   "metadata": {},
   "outputs": [],
   "source": [
    "# Leyendo csvs\n",
    "df_vistas = pd.read_csv(\"../datos_navent_fiuba/fiuba_3_vistas.csv\", parse_dates=['timestamp'])\n",
    "df_vistas.columns = df_vistas.columns.str.lower()\n",
    "\n",
    "df_postulaciones = pd.read_csv(\"../datos_navent_fiuba/fiuba_4_postulaciones.csv\", parse_dates=['fechapostulacion'])\n",
    "df_avisos_detalle = pd.read_csv(\"../datos_navent_fiuba/fiuba_6_avisos_detalle.csv\")"
   ]
  },
  {
   "cell_type": "code",
   "execution_count": null,
   "metadata": {},
   "outputs": [],
   "source": [
    "# Elegimos un rango comun entre los dos sets de datos\n",
    "min_fecha = max(df_vistas['timestamp'].min(), df_postulaciones['fechapostulacion'].min())\n",
    "\n",
    "df_vistas_gp_aviso = df_vistas.loc[min_fecha <= df_vistas['timestamp']]\\\n",
    "                              .groupby('idaviso')\\\n",
    "                              .agg({'timestamp':'count'})\\\n",
    "                              .reset_index()\\\n",
    "                              .rename(columns={'timestamp': 'vistas_count'})\n",
    "\n",
    "#vistas_threshold = df_vistas_gp_aviso['vistas_count'].median()\n",
    "vistas_threshold = 1000\n",
    "\n",
    "df_posts_gp_aviso = df_postulaciones.loc[min_fecha <= df_postulaciones['fechapostulacion']]\\\n",
    "                                      .groupby('idaviso')\\\n",
    "                                      .agg({'fechapostulacion':'count'})\\\n",
    "                                      .reset_index()\\\n",
    "                                      .rename(columns={'fechapostulacion': 'posts_count'})\n",
    "df_ef = df_vistas_gp_aviso.merge(df_posts_gp_aviso, on='idaviso')\n",
    "\n",
    "df_ef = df_ef.loc[df_ef['vistas_count'] > vistas_threshold]\n",
    "\n",
    "df_ef['ef'] = df_ef['posts_count'] / df_ef['vistas_count']\n",
    "\n",
    "df_ef.sort_values('ef', ascending=False)"
   ]
  },
  {
   "cell_type": "code",
   "execution_count": null,
   "metadata": {},
   "outputs": [],
   "source": []
  }
 ],
 "metadata": {
  "kernelspec": {
   "display_name": "Python 3",
   "language": "python",
   "name": "python3"
  },
  "language_info": {
   "codemirror_mode": {
    "name": "ipython",
    "version": 3
   },
   "file_extension": ".py",
   "mimetype": "text/x-python",
   "name": "python",
   "nbconvert_exporter": "python",
   "pygments_lexer": "ipython3",
   "version": "3.6.4"
  }
 },
 "nbformat": 4,
 "nbformat_minor": 2
}
